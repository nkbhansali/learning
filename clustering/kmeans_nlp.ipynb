{
 "cells": [
  {
   "cell_type": "code",
   "execution_count": 9,
   "metadata": {},
   "outputs": [],
   "source": [
    "# Importing all libraries\n",
    "import matplotlib.pyplot as plt # plotting\n",
    "import numpy as np # dense matrices\n",
    "from scipy.sparse import csr_matrix # sparse matrices\n",
    "\n",
    "from sklearn.preprocessing import normalize\n",
    "from sklearn.metrics import pairwise_distances\n",
    "\n",
    "import sys\n",
    "import os\n",
    "\n",
    "%matplotlib inline"
   ]
  },
  {
   "cell_type": "code",
   "execution_count": null,
   "metadata": {},
   "outputs": [],
   "source": [
    "# Load the index to word dictionary\n",
    "import json\n",
    "ind_to_word = json.load(open('people_wiki_map_index_to_word.json'))"
   ]
  },
  {
   "cell_type": "markdown",
   "metadata": {},
   "source": [
    "## Load data, extract features"
   ]
  },
  {
   "cell_type": "markdown",
   "metadata": {},
   "source": [
    "Load the CSR matrix\n",
    "    * data is the cell value\n",
    "    * Indices is the index of the word \n",
    "    * indptr is the index of the word pointer.\n",
    "\n",
    "Nicely explained in the following link:\n",
    "https://doc`s.scipy.org/doc/scipy/reference/generated/scipy.sparse.csr_matrix.html\n",
    "See the examples as well, especially the last one\n"
   ]
  },
  {
   "cell_type": "code",
   "execution_count": 14,
   "metadata": {},
   "outputs": [],
   "source": [
    "# Function to load the sparse matrix from the saved people_wiki_tf_idf.npz\n",
    "def load_sparse_csr(filename):\n",
    "    loader = np.load(filename)\n",
    "    data = loader['data']\n",
    "    indices = loader['indices']\n",
    "    indptr = loader['indptr']\n",
    "    shape = loader['shape']\n",
    "    \n",
    "    return csr_matrix( (data, indices, indptr), shape)\n",
    "\n",
    "#wiki = sframe.SFrame('people_wiki.gl/')\n",
    "#tf_idf = load_sparse_csr('people_wiki_tf_idf.npz')\n",
    "#map_index_to_word = sframe.SFrame('people_wiki_map_index_to_word.gl/')"
   ]
  },
  {
   "cell_type": "code",
   "execution_count": 16,
   "metadata": {},
   "outputs": [
    {
     "data": {
      "text/plain": [
       "array([   0,  139,  286,  430,  657,  771,  944, 1209, 1515, 1688])"
      ]
     },
     "execution_count": 16,
     "metadata": {},
     "output_type": "execute_result"
    }
   ],
   "source": [
    "'''\n",
    "# people_wiki_tf_idf.npz already has the tf_idf values. \n",
    "# Generally you would build it using:\n",
    "# sklearn.feature_extractor.text import tfidf_vectorizer\n",
    "# and then using fit_transform, transform functions\n",
    "'''\n",
    "\n",
    "tf_idf = load_sparse_csr('data/people/people_wiki_tf_idf.npz') \n",
    "\n",
    "tf_idf.data[0:10]\n",
    "tf_idf.indices[0:10]\n",
    "tf_idf.indptr[0:10]"
   ]
  },
  {
   "cell_type": "markdown",
   "metadata": {},
   "source": [
    "Extracting TF-IDF vectors yourself -- \n",
    "\n",
    "Pre-computed TF-IDF vectors is calculated to minimize potential compatibility issues. \n",
    "If you do yourself, a good place to start is sklearn.TfIdfVectorizer. \n",
    "Due to variations in tokenization and other factors, your TF-IDF vectors may differ from the ones we provide.\n",
    "For the purpose the assessment, we ask you to use the vectors from people_wiki_tf_idf.npz.\n"
   ]
  },
  {
   "cell_type": "markdown",
   "metadata": {},
   "source": [
    "## Normalize the vectors"
   ]
  },
  {
   "cell_type": "markdown",
   "metadata": {},
   "source": [
    "#### Important\n",
    "Why Euclidean distance is not a good fit here and instead should use cosine similarity?\n",
    "\n",
    "Also, under what conditions is euclidean distance and cosine similarity similar? Prove it."
   ]
  },
  {
   "cell_type": "markdown",
   "metadata": {},
   "source": [
    "Euclidean distance can be a poor metric of similarity between documents, as it unfairly penalizes long articles. For a reasonable assessment of similarity, we should disregard the length information and use length-agnostic metrics, such as cosine distance.\n",
    "\n",
    "The k-means algorithm does not directly work with cosine distance, so we take an alternative route to remove length information: we normalize all vectors to be unit length. It turns out that Euclidean distance closely mimics cosine distance when all vectors are unit length. In particular, the squared Euclidean distance between any two vectors of length one is directly proportional to their cosine distance.\n",
    "\n",
    "We can prove this as follows. Let x and y be normalized vectors, i.e. unit vectors, so that $$||x|| = ||y|| = 1$$. \n",
    "\n",
    "Write the squared Euclidean distance as the dot product of (x-y) to itself:\n",
    "\n",
    "$$ ||x-y||^2 = (x-y)^T (x-y) = ||x||^2 - 2(x^Ty) + ||y||^2 = 2 - 2(x^Ty) = 2(1 - \\frac{(x^Ty)}{∥x∥∥y∥})  $$\n",
    "\n",
    "This tells us that two unit vectors that are close in Euclidean distance are also close in cosine distance. Thus, the k-means algorithm (which naturally uses Euclidean distances) on normalized vectors will produce the same results as clustering using cosine distance as a distance metric. We import the normalize() function from scikit-learn to normalize all vectors to unit length.\n",
    "\n",
    "This tells us that two unit vectors that are close in Euclidean distance are also close in cosine distance. Thus, the k-means algorithm (which naturally uses Euclidean distances) on normalized vectors will produce the same results as clustering using cosine distance as a distance metric."
   ]
  },
  {
   "cell_type": "code",
   "execution_count": 17,
   "metadata": {},
   "outputs": [],
   "source": [
    "from sklearn.preprocessing import normalize\n",
    "\n",
    "tf_idf = normalize(tf_idf)"
   ]
  },
  {
   "cell_type": "markdown",
   "metadata": {},
   "source": [
    "## Implement K-Means"
   ]
  },
  {
   "cell_type": "markdown",
   "metadata": {},
   "source": [
    "### Choose initial set of centroids"
   ]
  },
  {
   "cell_type": "code",
   "execution_count": 20,
   "metadata": {},
   "outputs": [],
   "source": [
    "# Random Initialization\n",
    "\n",
    "def get_initial_centroids(data, k, seed=None):\n",
    "    '''Randomly choose k data points as initial centroids'''\n",
    "    if seed is not None: # useful for obtaining consistent results\n",
    "        np.random.seed(seed)\n",
    "   \n",
    "    n = data.shape[0] # number of data points\n",
    "    \n",
    "    # Pick K indices from range [0, N).\n",
    "    rand_indices = np.random.randint(0, n, k)\n",
    "    \n",
    "    # Keep centroids as dense format, as many entries will be nonzero due to averaging.\n",
    "    # As long as at least one document in a cluster contains a word,\n",
    "    # it will carry a nonzero weight in the TF‐IDF vector of the centroid.\n",
    "    centroids = data[rand_indices,:].toarray()\n",
    "    \n",
    "    return centroids"
   ]
  },
  {
   "cell_type": "markdown",
   "metadata": {},
   "source": [
    "#### After initialization, the k-means algorithm iterates between the following two steps:\n",
    "    \n",
    "1. Assign each data point to the closest centroid.\n",
    "2. Revise centroids as the mean of the assigned data points.\n",
    "\n",
    "In pseudocode, we iteratively do the following:\n",
    "    \n",
    "    cluster_assignment = assign_clusters(data, centroids)\n",
    "    centroids = revise_centroids(data, k, cluster_assignment)"
   ]
  },
  {
   "cell_type": "markdown",
   "metadata": {},
   "source": [
    "### Assigning clusters\n",
    "\n",
    "How do we implement Step 1 of the main k-means loop above? \n",
    "First import pairwise_distances function from scikit-learn, which calculates Euclidean distances between rows of given arrays. \n",
    "\n",
    "For the sake of demonstration, let's look at documents 100 through 102 as query documents and compute the distances between each of these documents and every other document in the corpus. In the k-means algorithm, we will have to compute pairwise distances between the set of centroids and the set of documents."
   ]
  },
  {
   "cell_type": "code",
   "execution_count": 21,
   "metadata": {},
   "outputs": [
    {
     "name": "stdout",
     "output_type": "stream",
     "text": [
      "[[ 1.41000789  1.36894636]\n",
      " [ 1.40935215  1.41023886]\n",
      " [ 1.39855967  1.40890299]\n",
      " ..., \n",
      " [ 1.41108296  1.39123646]\n",
      " [ 1.41022804  1.31468652]\n",
      " [ 1.39899784  1.41072448]]\n"
     ]
    }
   ],
   "source": [
    "from sklearn.metrics.pairwise import pairwise_distances\n",
    "\n",
    "# Get the TF‐IDF vectors for documents 100 through 102.\n",
    "queries = tf_idf[100:102,:]\n",
    "\n",
    "# Compute pairwise distances from every data point to each query vector.\n",
    "dist = pairwise_distances(tf_idf, queries, metric='euclidean')\n",
    "print(dist)"
   ]
  },
  {
   "cell_type": "markdown",
   "metadata": {},
   "source": [
    "More formally, dist[i,j] is assigned the distance between the ith row of X (i.e., X[i,:]) and the jth row of Y (i.e., Y[j,:])."
   ]
  },
  {
   "cell_type": "markdown",
   "metadata": {},
   "source": [
    "**Checkpoint:**\n",
    "\n",
    "For a moment, suppose that we initialize three centroids with the first 3 rows of tf_idf.\n",
    "\n",
    "Write code to compute distances from each of the centroids to all data points in tf_idf. \n",
    "\n",
    "Then find the distance between row 430 of tf_idf and the second centroid and save it to dist. \n",
    "\n",
    "Run the following cell to check your answer."
   ]
  },
  {
   "cell_type": "code",
   "execution_count": 28,
   "metadata": {},
   "outputs": [
    {
     "name": "stdout",
     "output_type": "stream",
     "text": [
      "Pass\n"
     ]
    }
   ],
   "source": [
    "from sklearn.metrics.pairwise import euclidean_distances\n",
    "from sklearn.metrics.pairwise import pairwise_distances\n",
    "\n",
    "rand_indices = [0,1,2]\n",
    "centroids = tf_idf[rand_indices,:].toarray()\n",
    "\n",
    "#dist = euclidean_distances(tf_idf[430], centroids[1, np.newaxis])\n",
    "dist = euclidean_distances(tf_idf[430], centroids[1].reshape(1,-1))\n",
    "\n",
    "if np.allclose(dist, pairwise_distances(tf_idf[430,:], tf_idf[1,:], metric='euclidean')):\n",
    "    print('Pass')\n",
    "else:\n",
    "    print('Check your code again')    "
   ]
  },
  {
   "cell_type": "markdown",
   "metadata": {},
   "source": [
    "**Checkpoint:**\n",
    "\n",
    "Let's put these steps together: \n",
    "\n",
    "* First, initialize three centroids with the first 3 rows of tf_idf.\n",
    "* Then, compute distances from each of the centroids to all data points in tf_idf. \n",
    "* Finally, use these distance calculations to compute cluster assignments and assign them to cluster_assignment. \n",
    "\n",
    "Run the following cell to check your code."
   ]
  },
  {
   "cell_type": "code",
   "execution_count": 29,
   "metadata": {},
   "outputs": [
    {
     "name": "stdout",
     "output_type": "stream",
     "text": [
      "Pass\n"
     ]
    }
   ],
   "source": [
    "rand_indices = [0,1,2]\n",
    "centroids = tf_idf[rand_indices,:].toarray()\n",
    "\n",
    "cluster_assignment = np.argmin(euclidean_distances(tf_idf, centroids), axis=1)\n",
    "\n",
    "if len(cluster_assignment)==59071 and np.array_equal(np.bincount(cluster_assignment), np.array([23061, 10086,\n",
    "25924])):\n",
    "    print('Pass') # count number of data points for each cluster\n",
    "else:\n",
    "    print('Check your code again.')    "
   ]
  },
  {
   "cell_type": "code",
   "execution_count": 26,
   "metadata": {},
   "outputs": [],
   "source": [
    "# Function to assign clusters\n",
    "\n",
    "def assign_clusters(data, centroids):\n",
    "    # Compute distances between each data point and the set of centroids:\n",
    "    # Fill in the blank (RHS only)\n",
    "    distances_from_centroids = euclidean_distances(data, centroids)\n",
    "    # Compute cluster assignments for each data point:\n",
    "    # Fill in the blank (RHS only)\n",
    "    cluster_assignment = np.argmin(euclidean_distances(data, centroids), axis=1)\n",
    "    \n",
    "    return cluster_assignment\n",
    "\n",
    "# which is simply generalization of what we did above."
   ]
  },
  {
   "cell_type": "markdown",
   "metadata": {},
   "source": [
    "**Checkpoint:**\n",
    "\n",
    "For the last time, let us check if Step 1 was implemented correctly. \n",
    "\n",
    "With rows 0, 2, 4, and 6 of tf_idf as an initial set of centroids, we assign cluster labels to rows 0, 10, 20, ..., and 90 of tf_idf. \n",
    "\n",
    "The resulting cluster labels should be [0, 1, 1, 0, 0, 2, 0, 2, 2, 1]."
   ]
  },
  {
   "cell_type": "code",
   "execution_count": 27,
   "metadata": {},
   "outputs": [
    {
     "name": "stdout",
     "output_type": "stream",
     "text": [
      "Pass\n"
     ]
    }
   ],
   "source": [
    "if np.allclose(assign_clusters(tf_idf[0:100:10], tf_idf[0:8:2]), np.array([0, 1, 1, 0, 0, 2, 0, 2, 2, 1])):\n",
    "    print('Pass')\n",
    "else:\n",
    "    print('Check your code again.')"
   ]
  },
  {
   "cell_type": "markdown",
   "metadata": {},
   "source": [
    "### Revising Clusters"
   ]
  },
  {
   "cell_type": "markdown",
   "metadata": {},
   "source": [
    "Let's turn to Step 2, where we compute the new centroids given the cluster assignments.\n",
    "\n",
    "SciPy and NumPy arrays allow for filtering via Boolean masks. \n",
    "For instance, we filter all data points that are assigned to cluster 0 by writing \"data[cluster_assignment==0,:]\".\n",
    "\n",
    "To develop intuition about filtering, let's look at a toy example consisting of 3 data points and 2 clusters."
   ]
  },
  {
   "cell_type": "code",
   "execution_count": 32,
   "metadata": {},
   "outputs": [
    {
     "name": "stdout",
     "output_type": "stream",
     "text": [
      "[0 1 0]\n"
     ]
    }
   ],
   "source": [
    "data = np.array([[1., 2., 0.], \n",
    "                 [0., 0., 0.], \n",
    "                 [2., 2., 0.]])\n",
    "\n",
    "centroids = np.array([[0.5, 0.5, 0.], [0., -0.5, 0.]])\n",
    "\n",
    "# Let's assign these data points to the closest centroid.\n",
    "\n",
    "cluster_assignment = assign_clusters(data, centroids)\n",
    "print(cluster_assignment) # prints [0 1 0]"
   ]
  },
  {
   "cell_type": "markdown",
   "metadata": {},
   "source": [
    "The expression \"cluster_assignment==1\" gives a list of Booleans that says whether each data point is\n",
    "assigned to cluster 1 or not. \n",
    "\n",
    "For cluster 0, the expression is \"cluster_assignment==0\". In lieu of indices, we can put in the list of Booleans to pick and choose rows. Only the rows that correspond to a True entry will be retained.\n",
    "\n",
    "First, let's look at the data points (i.e., their values) assigned to cluster 1:"
   ]
  },
  {
   "cell_type": "code",
   "execution_count": 33,
   "metadata": {},
   "outputs": [
    {
     "name": "stdout",
     "output_type": "stream",
     "text": [
      "[[ 0.  0.  0.]]\n"
     ]
    }
   ],
   "source": [
    "print(data[cluster_assignment==1])"
   ]
  },
  {
   "cell_type": "markdown",
   "metadata": {},
   "source": [
    "The output makes sense since [0 0 0] is closer to [0 -0.5 0] than to [0.5 0.5 0]."
   ]
  },
  {
   "cell_type": "code",
   "execution_count": 40,
   "metadata": {},
   "outputs": [
    {
     "name": "stdout",
     "output_type": "stream",
     "text": [
      "[[ 1.  2.  0.]\n",
      " [ 2.  2.  0.]]\n"
     ]
    }
   ],
   "source": [
    "# Now let's look at the data points assigned to cluster 0:\n",
    "print(data[cluster_assignment==0])"
   ]
  },
  {
   "cell_type": "markdown",
   "metadata": {},
   "source": [
    "Again, this makes sense since these values are each closer to [0.5 0.5 0] than to [0 -0.5 0]."
   ]
  },
  {
   "cell_type": "markdown",
   "metadata": {},
   "source": [
    "Given all the data points in a cluster, it only remains to compute the mean. Use np.mean(). By default,\n",
    "the function averages all elements in a 2D array. To compute row-wise or column-wise means, add the\n",
    "axis argument. See the linked documentation for details.\n",
    "\n",
    "Use this function to average the data points in cluster 0"
   ]
  },
  {
   "cell_type": "code",
   "execution_count": 39,
   "metadata": {},
   "outputs": [
    {
     "name": "stdout",
     "output_type": "stream",
     "text": [
      "[ 1.5  2.   0. ]\n"
     ]
    }
   ],
   "source": [
    "print(data[cluster_assignment==0].mean(axis=0))"
   ]
  },
  {
   "cell_type": "markdown",
   "metadata": {},
   "source": [
    "We are now ready to complete this function:"
   ]
  },
  {
   "cell_type": "code",
   "execution_count": 48,
   "metadata": {},
   "outputs": [],
   "source": [
    "def revise_centroids(data, k, cluster_assignment):\n",
    "    \n",
    "    new_centroids = []\n",
    "    \n",
    "    for i in range(k):\n",
    "    # Select all data points that belong to cluster i. Fill in the blank\n",
    "    \n",
    "        member_data_points = data[cluster_assignment==i]\n",
    "        # Compute the mean of the data points. Fill in the blank (RHS only)\n",
    "        centroid = np.mean(member_data_points, axis=0)\n",
    "        # Convert numpy.matrix type to numpy.ndarray type\n",
    "        centroid = centroid.A1\n",
    "        new_centroids.append(centroid)\n",
    "    \n",
    "    new_centroids = np.array(new_centroids)\n",
    "    return new_centroids\n"
   ]
  },
  {
   "cell_type": "markdown",
   "metadata": {},
   "source": [
    "**Checkpoint**\n",
    "\n",
    "Let's check our Step 2 implementation. Letting rows 0, 10, ..., 90 of tf_idf as the data points and the cluster labels [0, 1, 1, 0, 0, 2, 0, 2, 2, 1], we compute the next set of centroids. \n",
    "\n",
    "Each centroid is given by the average of all member data points in corresponding cluster."
   ]
  },
  {
   "cell_type": "code",
   "execution_count": 49,
   "metadata": {},
   "outputs": [
    {
     "name": "stdout",
     "output_type": "stream",
     "text": [
      "Pass\n"
     ]
    }
   ],
   "source": [
    "result = revise_centroids(tf_idf[0:100:10], 3, np.array([0, 1, 1, 0, 0, 2, 0, 2,2, 1]))\n",
    "\n",
    "if np.allclose(result[0], np.mean(tf_idf[[0,30,40,60]].toarray(), axis=0)) and \\\n",
    "    np.allclose(result[1], np.mean(tf_idf[[10,20,90]].toarray(), axis=0)) and \\\n",
    "    np.allclose(result[2], np.mean(tf_idf[[50,70,80]].toarray(), axis=0)):\n",
    "        print('Pass')\n",
    "else:\n",
    "    print('Check your code')\n",
    "        "
   ]
  },
  {
   "cell_type": "markdown",
   "metadata": {},
   "source": [
    "### Assessing Convergence\n",
    "\n",
    "How can we tell if the k-means algorithm is converging?\n",
    "\n",
    "We can look at the cluster assignments and see if they stabilize over time. In fact, we'll be running the algorithm until the cluster assignments stop changing at all. To be extra safe, and to assess the clustering performance, we'll be looking at an\n",
    "additional criteria: the sum of all squared distances between data points and centroids. This is defined as:\n",
    "\n",
    "$$ J(Z,\\mu) = \\sum_{i=0}^k  \\sum_{i:z_i = j}^k ||x_i - \\mu_j||^2   $$\n",
    "\n",
    "The smaller the distances, the more homogeneous the clusters are. In other words, we'd like to have \"tight\" clusters.\n"
   ]
  },
  {
   "cell_type": "code",
   "execution_count": null,
   "metadata": {},
   "outputs": [],
   "source": [
    "def compute_heterogeneity(data, k, centroids, cluster_assignment):\n",
    "    \n",
    "    heterogeneity = 0.0\n",
    "    \n",
    "    for i in range(k):\n",
    "    # Select all data points that belong to cluster i. Fill in the blank\n",
    "    \n",
    "        member_data_points = data[cluster_assignment==i, :]\n",
    "        \n",
    "        if member_data_points.shape[0] > 0: # check if i‐th cluster is non‐empty\n",
    "            # Compute distances from centroid to data points (RHS only)\n",
    "            distances = pairwise_distances(member_data_points, [centroids[i]], metric='euclidean')\n",
    "            squared_distances = distances**2    \n",
    "            heterogeneity += np.sum(squared_distances)\n",
    "    \n",
    "    return heterogeneity"
   ]
  },
  {
   "cell_type": "markdown",
   "metadata": {},
   "source": [
    "### Combining into a single function:\n",
    "\n",
    "Once the two k-means steps have been implemented, as well as our heterogeneity metric we wish to monitor, it is only a matter of putting these functions together to write a k-means algorithm that \n",
    "\n",
    "* Repeatedly performs Steps 1 and 2\n",
    "* Tracks convergence metrics\n",
    "* Stops if either no assignment changed or we reach a certain number of iterations."
   ]
  },
  {
   "cell_type": "code",
   "execution_count": null,
   "metadata": {},
   "outputs": [],
   "source": [
    "def kmeans(data, k, initial_centroids, maxiter, record_heterogeneity=None, verbose=False):\n",
    "    '''\n",
    "    This function runs k‐means on given data and initial set of centroids.\n",
    "    maxiter: maximum number of iterations to run.\n",
    "    record_heterogeneity: (optional) a list, to store the history of heterogeneity as function of iterations \n",
    "    if None, do not store the history.\n",
    "    verbose: if True, print how many data points changed their cluster labels\n",
    "    in each iteration\n",
    "    '''\n",
    "    \n",
    "    centroids = initial_centroids[:]\n",
    "    prev_cluster_assignment = None\n",
    "    \n",
    "    for itr in range(maxiter):\n",
    "        \n",
    "        if verbose:\n",
    "            print(itr)\n",
    "            \n",
    "        # 1. Make cluster assignments using nearest centroids\n",
    "        cluster_assignment = assign_clusters(data, centroids)\n",
    "        \n",
    "        # 2. Compute a new centroid for each of the k clusters, averaging all \n",
    "        # data points assigned to that cluster.\n",
    "        \n",
    "        centroids = revise_centroids(data, k, cluster_assignment)\n",
    "        \n",
    "        # Check for convergence: if none of the assignments changed, stop\n",
    "        if prev_cluster_assignment is not None and (prev_cluster_assignment==cluster_assignment).all():\n",
    "            break\n",
    "        \n",
    "        # Print number of new assignments\n",
    "        if prev_cluster_assignment is not None:\n",
    "            num_changed = np.sum(prev_cluster_assignment!=cluster_assignment)\n",
    "        \n",
    "            if verbose:\n",
    "                print(' {0:5d} elements changed their cluster assignment.'.format(num_changed))\n",
    "        \n",
    "        # Record heterogeneity convergence metric\n",
    "        if record_heterogeneity is not None:\n",
    "        \n",
    "            score = compute_heterogeneity(data, k, centroids, cluster_assignment)            \n",
    "            record_heterogeneity.append(score)\n",
    "   \n",
    "    prev_cluster_assignment = cluster_assignment[:]\n",
    "    return centroids, cluster_assignment"
   ]
  },
  {
   "cell_type": "markdown",
   "metadata": {},
   "source": [
    "### Plotting convergence metric\n",
    "We can use the above function to plot the convergence metric across iterations."
   ]
  },
  {
   "cell_type": "code",
   "execution_count": 51,
   "metadata": {},
   "outputs": [],
   "source": [
    "def plot_heterogeneity(heterogeneity, k):\n",
    "    plt.figure(figsize=(7,4))\n",
    "    plt.plot(heterogeneity, linewidth=4)\n",
    "    plt.xlabel('# Iterations')\n",
    "    plt.ylabel('Heterogeneity')\n",
    "    plt.title('Heterogeneity of clustering over time, K={0:d}'.format(k))\n",
    "    plt.rcParams.update({'font.size': 16})\n",
    "    plt.tight_layout()"
   ]
  },
  {
   "cell_type": "markdown",
   "metadata": {},
   "source": [
    "#### Testing - Running K-Means\n",
    "\n",
    "Let's consider running k-means with K=3 clusters for a maximum of 400 iterations, recording cluster heterogeneity at every step. \n",
    "Then, let's plot the heterogeneity over iterations using the plotting function above."
   ]
  },
  {
   "cell_type": "code",
   "execution_count": null,
   "metadata": {},
   "outputs": [],
   "source": [
    "k = 3\n",
    "heterogeneity = []\n",
    "initial_centroids = get_initial_centroids(tf_idf, k, seed=0)\n",
    "\n",
    "centroids, cluster_assignment = kmeans(tf_idf, k, initial_centroids, \n",
    "                                       maxiter=400,record_heterogeneity=heterogeneity,\n",
    "                                       verbose=True)\n",
    "plot_heterogeneity(heterogeneity, k)"
   ]
  },
  {
   "cell_type": "markdown",
   "metadata": {},
   "source": [
    "#### Quiz Question. \n",
    "\n",
    "(True/False) The clustering objective (heterogeneity) is non-increasing for this example."
   ]
  },
  {
   "cell_type": "markdown",
   "metadata": {},
   "source": [
    "#### Quiz Question. \n",
    "\n",
    "Let's step back from this particular example. If the clustering objective (heterogeneity)\n",
    "would ever increase when running k-means, that would indicate: (choose one)\n",
    "1. k-means algorithm got stuck in a bad local minimum\n",
    "2. There is a bug in the k-means code\n",
    "3. All data points consist of exact duplicates\n",
    "4. Nothing is wrong. The objective should generally go down sooner or later."
   ]
  },
  {
   "cell_type": "markdown",
   "metadata": {},
   "source": [
    "#### Quiz Question. \n",
    "\n",
    "Which of the cluster contains the greatest number of data points in the end? Hint: Use\n",
    "np.bincount() to count occurrences of each cluster label.\n",
    "1. Cluster #0\n",
    "2. Cluster #1\n",
    "3. Cluster #2"
   ]
  },
  {
   "cell_type": "markdown",
   "metadata": {},
   "source": [
    "### Beware of Local Minima Issue\n",
    "\n",
    "One weakness of k-means is that it tends to get stuck in a local minimum. To see this, let us run kmeans multiple times, with different initial centroids created using different random seeds.\n",
    "\n",
    "**Note:** Again, in practice, you should set diffrent seeds for every run. We give you a list of seeds for this assignment so that everyone gets the same answer.\n",
    "\n",
    "This may take several minutes to run."
   ]
  },
  {
   "cell_type": "code",
   "execution_count": null,
   "metadata": {},
   "outputs": [],
   "source": [
    "k = 10\n",
    "heterogeneity = {}\n",
    "import time\n",
    "start = time.time()\n",
    "\n",
    "for seed in [0, 20000, 40000, 60000, 80000, 100000, 120000]:\n",
    "    initial_centroids = get_initial_centroids(tf_idf, k, seed)\n",
    "    centroids, cluster_assignment = kmeans(tf_idf, k, initial_centroids, \n",
    "                                           maxiter=400, record_heterogeneity=None, \n",
    "                                           verbose=False)\n",
    "\n",
    "    # To save time, compute heterogeneity only once in the end\n",
    "    heterogeneity[seed] = compute_heterogeneity(tf_idf, k, centroids, cluster_assignment)\n",
    "    print('seed={0:06d}, heterogeneity={1:.5f}'.format(seed, heterogeneity[seed]))\n",
    "    sys.stdout.flush()\n",
    "\n",
    "end = time.time()\n",
    "print(end‐start)"
   ]
  },
  {
   "cell_type": "markdown",
   "metadata": {},
   "source": [
    "Notice the variation in heterogeneity for different initializations. \n",
    "\n",
    "This indicates that k-means sometimes gets stuck at a bad local minimum.\n"
   ]
  },
  {
   "cell_type": "markdown",
   "metadata": {},
   "source": [
    "**Quiz Question.** \n",
    "\n",
    "Another way to capture the effect of changing initialization is to look at the distribution of cluster assignments. Add a line to the code above to compute the size (# of member data points) of clusters for each run of k-means. \n",
    "\n",
    "Look at the size of the largest cluster (most # of member data points) across multiple runs, with seeds 0, 20000, ..., 120000. \n",
    "\n",
    "How much does this measure vary across the runs? \n",
    "What is the minimum and maximum values this quantity takes?"
   ]
  },
  {
   "cell_type": "markdown",
   "metadata": {},
   "source": [
    "#### K-Means++"
   ]
  },
  {
   "cell_type": "code",
   "execution_count": 53,
   "metadata": {},
   "outputs": [
    {
     "name": "stdout",
     "output_type": "stream",
     "text": [
      "2375\n",
      "14406\n"
     ]
    }
   ],
   "source": [
    "# Fiddling with code to implement k-means++\n",
    "\n",
    "idx = np.random.randint(0,tf_idf.shape[0])\n",
    "idx\n",
    "k=3\n",
    "\n",
    "centroids = np.zeros((k, tf_idf.shape[1]))\n",
    "\n",
    "centroids[0] = tf_idf[idx].toarray()\n",
    "\n",
    "for i in range(1,k):\n",
    "    \n",
    "    distances_from_centroids = (np.min(euclidean_distances(tf_idf, centroids[0:i]), \n",
    "                                       axis=1)**2)    \n",
    "    print(np.argmax(distances_from_centroids))\n",
    "    centroids[i] = tf_idf[np.argmax(distances_from_centroids)].toarray()  "
   ]
  },
  {
   "cell_type": "code",
   "execution_count": null,
   "metadata": {},
   "outputs": [],
   "source": [
    "def smart_initialize(data, k, seed=None):\n",
    "    \n",
    "    '''Use k‐means++ to initialize a good set of centroids'''\n",
    "    if seed is not None: # useful for obtaining consistent results\n",
    "        np.random.seed(seed)\n",
    "    \n",
    "    centroids = np.zeros((k, data.shape[1]))\n",
    "\n",
    "    # Randomly choose the first centroid.\n",
    "    # Since we have no prior knowledge, choose uniformly at random\n",
    "\n",
    "    idx = np.random.randint(data.shape[0])\n",
    "    centroids[0] = data[idx,:].toarray()\n",
    "    squared_distances = pairwise_distances(data, centroids[0:1], \n",
    "                                           metric='euclidean').flatten()**2\n",
    "\n",
    "    for i in range(1, k):        \n",
    "        # Choose the next centroid randomly, so that the probability for each data point to be chosen\n",
    "        # is directly proportional to its squared distance from the nearest centroid.\n",
    "        # Roughtly speaking, a new centroid should be as far as from other centroids as possible.\n",
    "        \n",
    "        idx = np.random.choice(data.shape[0], \n",
    "                               1, \n",
    "                               p=squared_distances/sum(squared_distances))\n",
    "        centroids[i] = data[idx,:].toarray()\n",
    "        \n",
    "        # Now compute distances from the centroids to all data points\n",
    "        squared_distances = np.min(pairwise_distances(data, \n",
    "                                                      centroids[0:i+1],\n",
    "                                                      metric='euclidean')**2\n",
    "                                    ,axis=1)\n",
    "        \n",
    "    return centroids"
   ]
  },
  {
   "cell_type": "markdown",
   "metadata": {},
   "source": [
    "Let's now rerun k-means with 10 clusters using the same set of seeds, but always using k-means++ to initialize the algorithm.\n",
    "\n",
    "This may take several minutes to run."
   ]
  },
  {
   "cell_type": "code",
   "execution_count": null,
   "metadata": {},
   "outputs": [],
   "source": [
    "k = 10\n",
    "heterogeneity_smart = {}\n",
    "start = time.time()\n",
    "\n",
    "for seed in [0, 20000, 40000, 60000, 80000, 100000, 120000]:\n",
    "    initial_centroids = smart_initialize(tf_idf, k, seed)\n",
    "    \n",
    "    centroids, cluster_assignment = kmeans(tf_idf, k, initial_centroids, \n",
    "                                           maxiter=400,\n",
    "                                           record_heterogeneity=None, \n",
    "                                           verbose=False)\n",
    "    # To save time, compute heterogeneity only once in the end\n",
    "    \n",
    "    heterogeneity_smart[seed] = compute_heterogeneity(tf_idf, k, \n",
    "                                                           centroids, \n",
    "                                                           cluster_assignment)    \n",
    "    print('seed={0:06d}, heterogeneity={1:.5f}'.format(seed, \n",
    "                                              heterogeneity_smart[seed]))\n",
    "    sys.stdout.flush()\n",
    "\n",
    "end = time.time()\n",
    "print(end-start)"
   ]
  },
  {
   "cell_type": "markdown",
   "metadata": {},
   "source": [
    "Let's compare the set of cluster heterogeneities we got from our 7 restarts of k-means using random initialization compared to the 7 restarts of k-means using k-means++ as a smart initialization. \n",
    "\n",
    "The following code produces a box plot for each of these methods, indicating the spread of values produced by each method."
   ]
  },
  {
   "cell_type": "code",
   "execution_count": 54,
   "metadata": {},
   "outputs": [
    {
     "ename": "NameError",
     "evalue": "name 'heterogeneity' is not defined",
     "output_type": "error",
     "traceback": [
      "\u001b[1;31m---------------------------------------------------------------------------\u001b[0m",
      "\u001b[1;31mNameError\u001b[0m                                 Traceback (most recent call last)",
      "\u001b[1;32m<ipython-input-54-7f1dfbca93e7>\u001b[0m in \u001b[0;36m<module>\u001b[1;34m()\u001b[0m\n\u001b[0;32m      1\u001b[0m \u001b[0mplt\u001b[0m\u001b[1;33m.\u001b[0m\u001b[0mfigure\u001b[0m\u001b[1;33m(\u001b[0m\u001b[0mfigsize\u001b[0m\u001b[1;33m=\u001b[0m\u001b[1;33m(\u001b[0m\u001b[1;36m8\u001b[0m\u001b[1;33m,\u001b[0m\u001b[1;36m5\u001b[0m\u001b[1;33m)\u001b[0m\u001b[1;33m)\u001b[0m\u001b[1;33m\u001b[0m\u001b[0m\n\u001b[1;32m----> 2\u001b[1;33m \u001b[0mplt\u001b[0m\u001b[1;33m.\u001b[0m\u001b[0mboxplot\u001b[0m\u001b[1;33m(\u001b[0m\u001b[1;33m[\u001b[0m\u001b[0mheterogeneity\u001b[0m\u001b[1;33m.\u001b[0m\u001b[0mvalues\u001b[0m\u001b[1;33m(\u001b[0m\u001b[1;33m)\u001b[0m\u001b[1;33m,\u001b[0m \u001b[0mheterogeneity_smart\u001b[0m\u001b[1;33m.\u001b[0m\u001b[0mvalues\u001b[0m\u001b[1;33m(\u001b[0m\u001b[1;33m)\u001b[0m\u001b[1;33m]\u001b[0m\u001b[1;33m,\u001b[0m \u001b[0mvert\u001b[0m\u001b[1;33m=\u001b[0m\u001b[1;32mFalse\u001b[0m\u001b[1;33m)\u001b[0m\u001b[1;33m\u001b[0m\u001b[0m\n\u001b[0m\u001b[0;32m      3\u001b[0m \u001b[0mplt\u001b[0m\u001b[1;33m.\u001b[0m\u001b[0myticks\u001b[0m\u001b[1;33m(\u001b[0m\u001b[1;33m[\u001b[0m\u001b[1;36m1\u001b[0m\u001b[1;33m,\u001b[0m \u001b[1;36m2\u001b[0m\u001b[1;33m]\u001b[0m\u001b[1;33m,\u001b[0m \u001b[1;33m[\u001b[0m\u001b[1;34m'k‐means'\u001b[0m\u001b[1;33m,\u001b[0m \u001b[1;34m'k‐means++'\u001b[0m\u001b[1;33m]\u001b[0m\u001b[1;33m)\u001b[0m\u001b[1;33m\u001b[0m\u001b[0m\n\u001b[0;32m      4\u001b[0m \u001b[0mplt\u001b[0m\u001b[1;33m.\u001b[0m\u001b[0mrcParams\u001b[0m\u001b[1;33m.\u001b[0m\u001b[0mupdate\u001b[0m\u001b[1;33m(\u001b[0m\u001b[1;33m{\u001b[0m\u001b[1;34m'font.size'\u001b[0m\u001b[1;33m:\u001b[0m \u001b[1;36m16\u001b[0m\u001b[1;33m}\u001b[0m\u001b[1;33m)\u001b[0m\u001b[1;33m\u001b[0m\u001b[0m\n\u001b[0;32m      5\u001b[0m \u001b[0mplt\u001b[0m\u001b[1;33m.\u001b[0m\u001b[0mtight_layout\u001b[0m\u001b[1;33m(\u001b[0m\u001b[1;33m)\u001b[0m\u001b[1;33m\u001b[0m\u001b[0m\n",
      "\u001b[1;31mNameError\u001b[0m: name 'heterogeneity' is not defined"
     ]
    },
    {
     "data": {
      "text/plain": [
       "<matplotlib.figure.Figure at 0x1a015b01da0>"
      ]
     },
     "metadata": {},
     "output_type": "display_data"
    }
   ],
   "source": [
    "plt.figure(figsize=(8,5))\n",
    "plt.boxplot([heterogeneity.values(), heterogeneity_smart.values()], vert=False)\n",
    "plt.yticks([1, 2], ['k‐means', 'k‐means++'])\n",
    "plt.rcParams.update({'font.size': 16})\n",
    "plt.tight_layout()"
   ]
  },
  {
   "cell_type": "markdown",
   "metadata": {},
   "source": [
    "A few things to notice from the box plot:\n",
    "On average, k-means++ produces a better clustering than Random initialization.\n",
    "Variation in clustering quality is smaller for k-means++."
   ]
  },
  {
   "cell_type": "markdown",
   "metadata": {},
   "source": [
    "In general, you should run k-means at least a few times with different initializations and then return the run resulting in the lowest heterogeneity. \n",
    "\n",
    "Let us write a function that runs k-means multiple times and picks the best run that minimizes heterogeneity. The function accepts an optional list of seed values to be used for the multiple runs; if no such list is provided, the current UTC time is used as seed values."
   ]
  },
  {
   "cell_type": "code",
   "execution_count": null,
   "metadata": {},
   "outputs": [],
   "source": [
    "def kmeans_multiple_runs(data, k, maxiter, num_runs, \n",
    "                         seed_list=None, \n",
    "                         verbose=False):\n",
    "    \n",
    "    heterogeneity = {}\n",
    "    min_heterogeneity_achieved = float('inf')\n",
    "    \n",
    "    best_seed = None\n",
    "    final_centroids = None\n",
    "    final_cluster_assignment = None\n",
    "    \n",
    "    for i in range(num_runs):\n",
    "        # Use UTC time if no seeds are provided\n",
    "        if seed_list is not None:\n",
    "            seed = seed_list[i]\n",
    "            np.random.seed(seed)\n",
    "        else:\n",
    "            seed = int(time.time())\n",
    "            np.random.seed(seed)\n",
    "\n",
    "        # Use k‐means++ initialization        \n",
    "        initial_centroids = smart_initialize(data, k, seed)\n",
    "        \n",
    "        # Run k‐means        \n",
    "        centroids, cluster_assignment = kmeans(data, k, initial_centroids, \n",
    "                                               maxiter, \n",
    "                                               heterogeneity, \n",
    "                                               verbose)        \n",
    "\n",
    "        heterogeneity[seed] = compute_heterogeneity(data, k, centroids, \n",
    "                                                         cluster_assignment)\n",
    "\n",
    "\n",
    "        if verbose:\n",
    "            print('seed={0:06d}, heterogeneity={1:.5f}'.format(seed, \n",
    "                                                          heterogeneity[seed]))\n",
    "            sys.stdout.flush()\n",
    "            \n",
    "        # if current measurement of heterogeneity is lower than previously seen,        \n",
    "        # update the minimum record of heterogeneity.\n",
    "        if heterogeneity[seed] < min_heterogeneity_achieved:\n",
    "            min_heterogeneity_achieved = heterogeneity[seed]\n",
    "            best_seed = seed\n",
    "            final_centroids = centroids\n",
    "            final_cluster_assignment = cluster_assignment\n",
    "\n",
    "    # Return the centroids and cluster assignments that minimize heterogeneity.\n",
    "    return final_centroids, final_cluster_assignment"
   ]
  },
  {
   "cell_type": "markdown",
   "metadata": {},
   "source": [
    "### How to choose K"
   ]
  },
  {
   "cell_type": "markdown",
   "metadata": {},
   "source": [
    "Since we are measuring the tightness of the clusters, a higher value of K reduces the possible heterogeneity metric by definition. \n",
    "For example, if we have N data points and set K=N clusters, then we could have 0 cluster heterogeneity by setting the\n",
    "N centroids equal to the values of the N data points.\n",
    "\n",
    "(**Note:** Not all runs for larger K will result in lower heterogeneity than a single run with smaller K due to\n",
    "local optima.) \n",
    "\n",
    "Let's see explore this general trend for ourselves by performing the following analysis.\n",
    "\n",
    "Use the kmeans_multiple_runs function to run k-means with five different values of K. For each K, use kmeans++ and multiple runs to pick the best solution. In what follows, we consider K=2,10,25,50,100 and 7 restarts for each setting.\n",
    "\n",
    "**IMPORTANT:** The code block below will take about one hour to finish. We highly suggest that you use the arrays that we have computed for you. Side note: In practice, a good implementation of k-means would utilize parallelism to run multiple runs of k-means at once. For an example, see scikit-learn's KMeans"
   ]
  },
  {
   "cell_type": "markdown",
   "metadata": {},
   "source": [
    "To use the pre-computed NumPy arrays, first download kmeans-arrays.npz as mentioned in the reading for this assignment and load them with the following code. \n",
    "\n",
    "Make sure the downloaded file is in the same directory as this notebook."
   ]
  },
  {
   "cell_type": "code",
   "execution_count": 56,
   "metadata": {},
   "outputs": [],
   "source": [
    "def plot_k_vs_heterogeneity(k_values, heterogeneity_values):\n",
    "    plt.figure(figsize=(7,4))\n",
    "    plt.plot(k_values, heterogeneity_values, linewidth=4)\n",
    "    plt.xlabel('K')\n",
    "    plt.ylabel('Heterogeneity')\n",
    "    plt.title('K vs. Heterogeneity')\n",
    "    plt.rcParams.update({'font.size': 16})\n",
    "    plt.tight_layout()\n",
    "    "
   ]
  },
  {
   "cell_type": "code",
   "execution_count": null,
   "metadata": {},
   "outputs": [],
   "source": [
    "filename = 'kmeans-arrays.npz'\n",
    "\n",
    "heterogeneity_values = []\n",
    "k_list = [2, 10, 25, 50, 100]\n",
    "\n",
    "import os\n",
    "\n",
    "if os.path.exists(filename):\n",
    "    arrays = np.load(filename)\n",
    "    centroids = {}\n",
    "    cluster_assignment = {}\n",
    "    \n",
    "    for k in k_list:\n",
    "        print(k)\n",
    "        sys.stdout.flush()\n",
    "        \n",
    "        centroids[k] = arrays['centroids_{0:d}'.format(k)]\n",
    "        cluster_assignment[k] = arrays['cluster_assignment_{0:d}'.format(k)]\n",
    "        score = compute_heterogeneity(tf_idf, k, centroids[k], cluster_assignment[k])\n",
    "        heterogeneity_values.append(score)\n",
    "\n",
    "    plot_k_vs_heterogeneity(k_list, heterogeneity_values)\n",
    "else:\n",
    "    print('File not found. Skipping.')"
   ]
  },
  {
   "cell_type": "markdown",
   "metadata": {},
   "source": [
    "\n",
    "In the above plot we show that heterogeneity goes down as we increase the number of clusters. \n",
    "\n",
    "Does this mean we should always favor a higher K? \n",
    "\n",
    "Not at all! As we will see in the following section, setting K too high may end up separating data points that are actually pretty alike. At the extreme, we can set individual data points to be their own clusters (K=N) and achieve zero heterogeneity, but separating each data point into its own cluster is hardly a desirable outcome. \n",
    "\n",
    "In the following section, we will learn how to detect a K set \"too large\"."
   ]
  },
  {
   "cell_type": "markdown",
   "metadata": {},
   "source": [
    "### Visualize cluster of documents\n",
    "\n",
    "Let's start visualizing some clustering results to see if we think the clustering makes sense. We can use such visualizations to help us assess whether we have set K too large or too small for a given application. Following the theme of this course, we will judge whether the clustering makes sense in the context of document analysis."
   ]
  },
  {
   "cell_type": "markdown",
   "metadata": {},
   "source": [
    "What are we looking for in a good clustering of documents?\n",
    "\n",
    "* Documents in the same cluster should be similar.\n",
    "* Documents from different clusters should be less similar.\n",
    "\n",
    "So a bad clustering exhibits either of two symptoms:\n",
    "* Documents in a cluster have mixed content.\n",
    "* Documents with similar content are divided up and put into different clusters.\n",
    "\n",
    "**To help visualize the clustering, we do the following:**\n",
    "* Fetch nearest neighbors of each centroid from the set of documents assigned to that cluster. We will consider these documents as being representative of the cluster.\n",
    "* Print titles and first sentences of those nearest neighbors.\n",
    "* Print top 5 words that have highest tf-idf weights in each centroid."
   ]
  },
  {
   "cell_type": "code",
   "execution_count": null,
   "metadata": {},
   "outputs": [],
   "source": [
    "def visualize_document_clusters(wiki, tf_idf, centroids, cluster_assignment, k,\n",
    "                                    map_index_to_word, display_content=False):\n",
    "    '''\n",
    "    wiki: original dataframe\n",
    "    tf_idf: data matrix, sparse matrix format\n",
    "    map_index_to_word: SFrame specifying the mapping betweeen words and column indices \n",
    "    display_content: if True, display 8 nearest neighbors of each centroid\n",
    "    '''\n",
    "    \n",
    "    print('==========================================================')\n",
    "    \n",
    "    # Visualize each cluster c\n",
    "    for c in range(k):\n",
    "        # Cluster heading\n",
    "        print('Cluster {0:d} '.format(c)),\n",
    "        \n",
    "        # Print top 5 words with largest TF‐IDF weights in the cluster\n",
    "        idx = centroids[c].argsort()[::-1]\n",
    "    \n",
    "        for i in range(5): # Print each word along with the TF‐IDF weight\n",
    "            print('{0:s}:{1:.3f}'.format(map_index_to_word['category'][idx[i]], \n",
    "                                              centroids[c,idx[i]]))\n",
    "            print('')\n",
    "            \n",
    "        if display_content:\n",
    "            # Compute distances from the centroid to all data points in the \n",
    "            # cluster, and compute nearest neighbors of the centroids within the cluster.\n",
    "            distances = pairwise_distances(tf_idf, [centroids[c]], \n",
    "                                           metric='euclidean').flatten()\n",
    "            \n",
    "            # remove non‐members from consideration\n",
    "            distances[cluster_assignment!=c] = float('inf')\n",
    "            \n",
    "            nearest_neighbors = distances.argsort()\n",
    "            # For 8 nearest neighbors, print the title as well as first 180\n",
    "            # characters of text.\n",
    "            # Wrap the text at 80‐character mark.\n",
    "            \n",
    "            for i in range(8):\n",
    "                text = ' '.join(wiki[nearest_neighbors[i]]['text'].split(None, 25)[0:25])\n",
    "                print('\\n* {0:50s} {1:.5f}\\n {2:s}\\n {3:s}'.format\n",
    "                      (wiki[nearest_neighbors[i]]['name'],\n",
    "                       distances[nearest_neighbors[i]], \n",
    "                       text[:90], \n",
    "                       text[90:180] if len(text) > 90 else ''))\n",
    "        \n",
    "        print('==========================================================')\n",
    "        "
   ]
  },
  {
   "cell_type": "code",
   "execution_count": null,
   "metadata": {},
   "outputs": [],
   "source": [
    "# Let us first look at the 2 cluster case (K=2).            \n",
    "visualize_document_clusters(wiki, tf_idf, centroids[2], cluster_assignment[2], 2, map_index_to_word, display_content=True)\n",
    "            "
   ]
  },
  {
   "cell_type": "markdown",
   "metadata": {},
   "source": [
    "Both clusters have mixed content, although cluster 1 is much purer than cluster 0:\n",
    "\n",
    "Cluster 0: artists, songwriters, professors, politicians, writers, etc.\n",
    "Cluster 1: baseball players, hockey players, soccer (association football) players, etc.\n",
    "\n",
    "Top words of cluster 1 are all related to sports, whereas top words of cluster 0 show no clear pattern.\n",
    "Roughly speaking, the entire dataset was divided into athletes and non-athletes. It would be better if we\n",
    "sub-divided non-athletes into more categories. So let us use more clusters. How about K=10?"
   ]
  },
  {
   "cell_type": "code",
   "execution_count": null,
   "metadata": {},
   "outputs": [],
   "source": [
    "k = 10\n",
    "visualize_document_clusters(wiki, tf_idf, centroids[k], cluster_assignment[k], k , map_index_to_word)"
   ]
  },
  {
   "cell_type": "markdown",
   "metadata": {},
   "source": [
    "Clusters 0, 1, and 5 appear to be still mixed, but others are quite consistent in content.\n",
    "\n",
    "Cluster 0: artists, actors, film directors, playwrights\n",
    "Cluster 1: soccer (association football) players, rugby players\n",
    "Cluster 2: track and ￉eld athletes\n",
    "Cluster 3: baseball players\n",
    "Cluster 4: professors, researchers, scholars\n",
    "Cluster 5: Austrailian rules football players, American football players\n",
    "Cluster 6: female figures from various fields\n",
    "Cluster 7: composers, songwriters, singers, music producers\n",
    "Cluster 8: ice hockey players\n",
    "Cluster 9: politicians\n",
    "    \n",
    "Clusters are now more pure, but some are qualitatively \"bigger\" than others. For instance, the category of scholars is more general than the category of baseball players. Increasing the number of clusters may split larger clusters. Another way to look at the size of cluster is to count the number of articles in each cluster."
   ]
  },
  {
   "cell_type": "code",
   "execution_count": null,
   "metadata": {},
   "outputs": [],
   "source": [
    "np.bincount(cluster_assignment[10])"
   ]
  },
  {
   "cell_type": "markdown",
   "metadata": {},
   "source": [
    "**Quiz Question.** Which of the 10 clusters above contains the greatest number of articles?\n",
    "\n",
    "**Quiz Question** Which of the 10 clusters contains the least number of articles?\n",
    "\n",
    "There appears to be at least some connection between the topical consistency of a cluster and the number of its member data points."
   ]
  },
  {
   "cell_type": "markdown",
   "metadata": {},
   "source": [
    "Let us visualize the case for K=25. For the sake of brevity, we do not print the content of documents. \n",
    "It turns out that the top words with highest TF-IDF weights in each cluster are representative of the cluster."
   ]
  },
  {
   "cell_type": "code",
   "execution_count": null,
   "metadata": {},
   "outputs": [],
   "source": [
    "visualize_document_clusters(wiki, tf_idf, centroids[25], cluster_assignment[25], 25, map_index_to_word, display_content=False)\n",
    "# turn off text for brevity"
   ]
  },
  {
   "cell_type": "markdown",
   "metadata": {},
   "source": [
    "Looking at the representative examples and top words, we classify each cluster as follows. Notice the bolded items, which indicate the appearance of a new theme.\n",
    "\n",
    "Cluster 0: lawyers, judges, legal scholars\n",
    "\n",
    "Cluster 1: professors, researchers, scholars (natural and health sciences)\n",
    "\n",
    "Cluster 2: ice hockey players\n",
    "\n",
    "Cluster 3: politicans\n",
    "\n",
    "Cluster 4: government officials\n",
    "\n",
    "Cluster 5: politicans\n",
    "\n",
    "Cluster 6: professors, researchers, scholars (social sciences and humanities)\n",
    "\n",
    "Cluster 7: Canadian politicians\n",
    "\n",
    "Cluster 8: car racers\n",
    "\n",
    "Cluster 9: economists\n",
    "\n",
    "Cluster 10: track and field athletes\n",
    "\n",
    "Cluster 11: females from various fields\n",
    "\n",
    "Cluster 12: (mixed; no clear theme)\n",
    "\n",
    "Cluster 13: baseball players\n",
    "\n",
    "Cluster 14: painters, sculptors, artists\n",
    "\n",
    "Cluster 15: Austrailian rules football players, American football players\n",
    "\n",
    "Cluster 16: musicians, composers\n",
    "\n",
    "Cluster 17: soccer (association football) players, rugby players\n",
    "\n",
    "Cluster 18: poets\n",
    "\n",
    "Cluster 19: film directors, playwrights\n",
    "\n",
    "Cluster 20: songwriters, singers, music producers\n",
    "\n",
    "Cluster 21: generals of U.S. Air Force\n",
    "\n",
    "Cluster 22: music directors, conductors\n",
    "\n",
    "Cluster 23: basketball players\n",
    "\n",
    "Cluster 24: golf players\n",
    "\n",
    "\n",
    "Indeed, increasing K achieved the desired effect of breaking up large clusters. Depending on the application, this may or may not be preferable to the K=10 analysis.\n",
    "Let's take it to the extreme and set K=100. We have a suspicion that this value is too large. Let us look at the top words from each cluster:"
   ]
  },
  {
   "cell_type": "code",
   "execution_count": null,
   "metadata": {},
   "outputs": [],
   "source": [
    "k=100\n",
    "visualize_document_clusters(wiki, tf_idf, centroids[k], cluster_assignment[k], k, map_index_to_word, display_content=False)\n",
    "# turn off text for brevity ‐‐ turn it on if you are curious ;)"
   ]
  },
  {
   "cell_type": "markdown",
   "metadata": {},
   "source": [
    "The class of soccer (association football) players has been broken into two clusters (44 and 45).\n",
    "\n",
    "Same goes for Austrialian rules football players (clusters 26 and 48). \n",
    "\n",
    "The class of baseball players have been also broken into two clusters (16 and 91).\n",
    "\n",
    "A high value of K encourages pure clusters, but we cannot keep increasing K. For large enough K, related documents end up going to different clusters.\n",
    "\n",
    "That said, the result for K=100 is not entirely bad. After all, it gives us separate clusters for such categories as Brazil, wrestling, computer science and the Mormon Church. If we set K somewhere between 25 and 100, we should be able to avoid breaking up clusters while discovering new ones.\n",
    "\n",
    "Also, we should ask ourselves how much granularity we want in our clustering. If we wanted a rough sketch of Wikipedia, we don't want too detailed clusters. On the other hand, having many clusters can be valuable when we are zooming into a certain part of Wikipedia.\n",
    "\n",
    "__There is no golden rule for choosing K. It all depends on the particular application and domain we are in.__"
   ]
  },
  {
   "cell_type": "markdown",
   "metadata": {},
   "source": [
    "Another other heuristic people use that does not rely on so much visualization, which can be hard in many\n",
    "applications (including here!) is as follows. \n",
    "\n",
    "**Track heterogeneity versus K and look for the \"elbow\" of the curve where the heterogeneity decrease rapidly before this value of K, but then only gradually for larger values of K. This naturally trades off between trying to minimize heterogeneity, but reduce model complexity.**\n",
    "\n",
    "In the heterogeneity versus K plot made above, we did not yet really see a flattening out of the heterogeneity, which might indicate that indeed K=100 is \"reasonable\" and we only see real overfiting for larger values of K (which are even harder to visualize using the methods we attempted above.)"
   ]
  },
  {
   "cell_type": "markdown",
   "metadata": {},
   "source": [
    "**Quiz Question** \n",
    "\n",
    "Another sign of too large K is having lots of small clusters. Look at the distribution of cluster sizes (by number of member data points). How many of the 100 clusters have fewer than 236 articles, i.e. 0.4% of the dataset?"
   ]
  },
  {
   "cell_type": "markdown",
   "metadata": {},
   "source": [
    "**Takeaway**\n",
    "\n",
    "Keep in mind though that tiny clusters aren't necessarily bad. A tiny cluster of documents that really look like each others is definitely preferable to a medium-sized cluster of documents with mixed content. However, having too few articles in a cluster may cause overfitting by reading too much into limited pool of training data."
   ]
  }
 ],
 "metadata": {
  "kernelspec": {
   "display_name": "Python 3",
   "language": "python",
   "name": "python3"
  },
  "language_info": {
   "codemirror_mode": {
    "name": "ipython",
    "version": 3
   },
   "file_extension": ".py",
   "mimetype": "text/x-python",
   "name": "python",
   "nbconvert_exporter": "python",
   "pygments_lexer": "ipython3",
   "version": "3.6.3"
  }
 },
 "nbformat": 4,
 "nbformat_minor": 2
}
