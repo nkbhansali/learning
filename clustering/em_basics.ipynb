{
 "cells": [
  {
   "cell_type": "code",
   "execution_count": 2,
   "metadata": {},
   "outputs": [],
   "source": [
    "import numpy as np\n",
    "import matplotlib.pyplot as plt\n",
    "%matplotlib inline"
   ]
  },
  {
   "cell_type": "code",
   "execution_count": 8,
   "metadata": {},
   "outputs": [],
   "source": [
    "x = np.array([[10,5],[2,1],[3,7]])"
   ]
  },
  {
   "cell_type": "code",
   "execution_count": 9,
   "metadata": {},
   "outputs": [
    {
     "data": {
      "text/plain": [
       "<matplotlib.collections.PathCollection at 0x226aeac1128>"
      ]
     },
     "execution_count": 9,
     "metadata": {},
     "output_type": "execute_result"
    },
    {
     "data": {
      "image/png": "[encoded data removed]",
      "text/plain": [
       "<matplotlib.figure.Figure at 0x226ae8515f8>"
      ]
     },
     "metadata": {},
     "output_type": "display_data"
    }
   ],
   "source": [
    "plt.scatter(x[:, 0], x[:, 1])"
   ]
  },
  {
   "cell_type": "markdown",
   "metadata": {},
   "source": [
    "Let us randomly initialize that the mean is [3,4] and covariance = [[0  3],[3  0]] and the cluster responsibility is one-third(1/3)"
   ]
  },
  {
   "cell_type": "code",
   "execution_count": 19,
   "metadata": {},
   "outputs": [],
   "source": [
    "initial_cluster_resp = (1/3.0)\n",
    "initial_mean = [3,4]\n",
    "initial_cov = [[3,0],[0,3]]"
   ]
  },
  {
   "cell_type": "code",
   "execution_count": 15,
   "metadata": {},
   "outputs": [
    {
     "data": {
      "text/plain": [
       "4.2506655933973963e-06"
      ]
     },
     "execution_count": 15,
     "metadata": {},
     "output_type": "execute_result"
    }
   ],
   "source": [
    "from scipy.stats import multivariate_normal\n",
    "\n",
    "(1/3) * multivariate_normal.pdf([10,5], mean = [3,4], cov=[[3,0],[0,3]])"
   ]
  },
  {
   "cell_type": "code",
   "execution_count": 17,
   "metadata": {},
   "outputs": [
    {
     "data": {
      "text/plain": [
       "0.00063085470900473429"
      ]
     },
     "execution_count": 17,
     "metadata": {},
     "output_type": "execute_result"
    }
   ],
   "source": [
    "(1/3.) * multivariate_normal.pdf([10,5], mean=[6,3], cov=[[3,0],[0,3]])"
   ]
  },
  {
   "cell_type": "code",
   "execution_count": 18,
   "metadata": {},
   "outputs": [
    {
     "data": {
      "text/plain": [
       "3.7104648102670329e-05"
      ]
     },
     "execution_count": 18,
     "metadata": {},
     "output_type": "execute_result"
    }
   ],
   "source": [
    "(1/3.) * multivariate_normal.pdf([10,5], mean=[4,6], cov=[[3,0],[0,3]])"
   ]
  },
  {
   "cell_type": "code",
   "execution_count": 60,
   "metadata": {},
   "outputs": [
    {
     "data": {
      "text/plain": [
       "array([[ 0.,  0.,  0.],\n",
       "       [ 0.,  0.,  0.],\n",
       "       [ 0.,  0.,  0.]])"
      ]
     },
     "execution_count": 60,
     "metadata": {},
     "output_type": "execute_result"
    }
   ],
   "source": [
    "resp = np.zeros((3,3))\n",
    "resp"
   ]
  },
  {
   "cell_type": "code",
   "execution_count": 61,
   "metadata": {},
   "outputs": [
    {
     "data": {
      "text/plain": [
       "array([[  4.25066559e-06,   0.00000000e+00,   0.00000000e+00],\n",
       "       [  3.34005398e-03,   0.00000000e+00,   0.00000000e+00],\n",
       "       [  3.94580755e-03,   0.00000000e+00,   0.00000000e+00]])"
      ]
     },
     "execution_count": 61,
     "metadata": {},
     "output_type": "execute_result"
    }
   ],
   "source": [
    "resp[:, 0] = (1/3) * multivariate_normal.pdf(x, mean = [3,4], cov=[[3,0],[0,3]])\n",
    "resp"
   ]
  },
  {
   "cell_type": "code",
   "execution_count": 62,
   "metadata": {},
   "outputs": [
    {
     "data": {
      "text/plain": [
       "array([[  4.25066559e-06,   6.30854709e-04,   0.00000000e+00],\n",
       "       [  3.34005398e-03,   6.30854709e-04,   0.00000000e+00],\n",
       "       [  3.94580755e-03,   2.74168326e-04,   0.00000000e+00]])"
      ]
     },
     "execution_count": 62,
     "metadata": {},
     "output_type": "execute_result"
    }
   ],
   "source": [
    "resp[:, 1] = (1/3) * multivariate_normal.pdf(x, mean = [6,3], cov=[[3,0],[0,3]])\n",
    "resp"
   ]
  },
  {
   "cell_type": "code",
   "execution_count": 63,
   "metadata": {},
   "outputs": [
    {
     "data": {
      "text/plain": [
       "array([[  4.25066559e-06,   6.30854709e-04,   3.71046481e-05],\n",
       "       [  3.34005398e-03,   6.30854709e-04,   1.40762712e-04],\n",
       "       [  3.94580755e-03,   2.74168326e-04,   1.26710556e-02]])"
      ]
     },
     "execution_count": 63,
     "metadata": {},
     "output_type": "execute_result"
    }
   ],
   "source": [
    "resp[:, 2] = (1/3) * multivariate_normal.pdf(x, mean = [4,6], cov=[[3,0],[0,3]])\n",
    "resp"
   ]
  },
  {
   "cell_type": "code",
   "execution_count": 64,
   "metadata": {},
   "outputs": [
    {
     "data": {
      "text/plain": [
       "array([[ 0.00632342,  0.93847858,  0.055198  ],\n",
       "       [ 0.81233485,  0.15343023,  0.03423491],\n",
       "       [ 0.23360371,  0.01623159,  0.7501647 ]])"
      ]
     },
     "execution_count": 64,
     "metadata": {},
     "output_type": "execute_result"
    }
   ],
   "source": [
    "resp_prop = resp/np.sum(resp,axis=1).reshape(-1,1)\n",
    "resp_prop"
   ]
  },
  {
   "cell_type": "code",
   "execution_count": 65,
   "metadata": {},
   "outputs": [
    {
     "data": {
      "text/plain": [
       "array([ 1.05226198,  1.10814041,  0.83959761])"
      ]
     },
     "execution_count": 65,
     "metadata": {},
     "output_type": "execute_result"
    }
   ],
   "source": [
    "soft_counts = np.sum(resp_prop, axis=0)\n",
    "soft_counts"
   ]
  },
  {
   "cell_type": "code",
   "execution_count": 66,
   "metadata": {},
   "outputs": [
    {
     "data": {
      "text/plain": [
       "array([ 0.35075399,  0.36938014,  0.27986587])"
      ]
     },
     "execution_count": 66,
     "metadata": {},
     "output_type": "execute_result"
    }
   ],
   "source": [
    "# Cluster Weights\n",
    "soft_counts/np.sum(soft_counts)"
   ]
  },
  {
   "cell_type": "markdown",
   "metadata": {},
   "source": [
    "The soft counts, normalized by their sum, are the new estimates of cluster weights. In this example, the\n",
    "new estimates are 0.351, 0.369, and 0.280 for clusters A, B, and C, respectively.\n",
    "\n",
    "Notice now that clusters A and B gained weight (from 0.333), while cluster C lost weight. According to\n",
    "the soft counts, cluster A and B are larger than the average cluster size, namely 1."
   ]
  },
  {
   "cell_type": "markdown",
   "metadata": {},
   "source": [
    "**Means** \n",
    "\n",
    "We first add fractional parts of all data points, using the cluster responsibilities:"
   ]
  },
  {
   "cell_type": "code",
   "execution_count": 85,
   "metadata": {},
   "outputs": [
    {
     "data": {
      "text/plain": [
       "array([[ 2.38871501,  2.47917789],\n",
       "       [ 9.74034107,  4.95944429],\n",
       "       [ 2.87094392,  5.56137782]])"
      ]
     },
     "execution_count": 85,
     "metadata": {},
     "output_type": "execute_result"
    }
   ],
   "source": [
    "resp_prop.T.dot(x)      # Calculating the sum product and then below cell is dividing to get the weighted mean"
   ]
  },
  {
   "cell_type": "code",
   "execution_count": 146,
   "metadata": {},
   "outputs": [
    {
     "data": {
      "text/plain": [
       "array([[ 2.27007633,  2.35604626],\n",
       "       [ 8.78980767,  4.47546561],\n",
       "       [ 3.4194284 ,  6.62386092]])"
      ]
     },
     "execution_count": 146,
     "metadata": {},
     "output_type": "execute_result"
    }
   ],
   "source": [
    "new_means = resp_prop.T.dot(x) / soft_counts.reshape(-1,1)\n",
    "new_means"
   ]
  },
  {
   "cell_type": "markdown",
   "metadata": {},
   "source": [
    "<b>Covariances</b>"
   ]
  },
  {
   "cell_type": "code",
   "execution_count": 127,
   "metadata": {},
   "outputs": [
    {
     "data": {
      "text/plain": [
       "array([[ 0.06323419,  0.03161709],\n",
       "       [ 1.6246697 ,  0.81233485],\n",
       "       [ 0.70081112,  1.63522595]])"
      ]
     },
     "execution_count": 127,
     "metadata": {},
     "output_type": "execute_result"
    }
   ],
   "source": [
    "final = resp_prop[:, 0].reshape(-1,1) * x\n",
    "final"
   ]
  },
  {
   "cell_type": "code",
   "execution_count": 159,
   "metadata": {},
   "outputs": [
    {
     "data": {
      "text/plain": [
       "array([[ 7.72992367,  2.64395374],\n",
       "       [-0.27007633, -1.35604626],\n",
       "       [ 0.72992367,  4.64395374]])"
      ]
     },
     "execution_count": 159,
     "metadata": {},
     "output_type": "execute_result"
    }
   ],
   "source": [
    "diff = x - new_means[0]\n",
    "diff"
   ]
  },
  {
   "cell_type": "code",
   "execution_count": 160,
   "metadata": {},
   "outputs": [
    {
     "data": {
      "text/plain": [
       "array([[ 60.35744965,  24.19352836],\n",
       "       [ 24.19352836,  30.39565923]])"
      ]
     },
     "execution_count": 160,
     "metadata": {},
     "output_type": "execute_result"
    }
   ],
   "source": [
    "diff.T.dot(diff)      # This is the where you are making the mistake."
   ]
  },
  {
   "cell_type": "code",
   "execution_count": 172,
   "metadata": {},
   "outputs": [
    {
     "data": {
      "text/plain": [
       "array([[ 0.37783516,  0.12923526],\n",
       "       [ 0.12923526,  0.04420381]])"
      ]
     },
     "execution_count": 172,
     "metadata": {},
     "output_type": "execute_result"
    }
   ],
   "source": [
    "first = resp_prop[0, 0] * diff[0, :].reshape(-1, 1).dot(diff[0].reshape(1,-1))\n",
    "first"
   ]
  },
  {
   "cell_type": "code",
   "execution_count": 173,
   "metadata": {},
   "outputs": [
    {
     "data": {
      "text/plain": [
       "array([[ 0.0592527 ,  0.29750627],\n",
       "       [ 0.29750627,  1.49377124]])"
      ]
     },
     "execution_count": 173,
     "metadata": {},
     "output_type": "execute_result"
    }
   ],
   "source": [
    "second = resp_prop[1, 0] * diff[1, :].reshape(-1, 1).dot(diff[1].reshape(1,-1))\n",
    "second"
   ]
  },
  {
   "cell_type": "code",
   "execution_count": 174,
   "metadata": {},
   "outputs": [
    {
     "data": {
      "text/plain": [
       "array([[ 0.12446138,  0.7918539 ],\n",
       "       [ 0.7918539 ,  5.03796911]])"
      ]
     },
     "execution_count": 174,
     "metadata": {},
     "output_type": "execute_result"
    }
   ],
   "source": [
    "third = resp_prop[2, 0] * diff[2, :].reshape(-1, 1).dot(diff[2].reshape(1,-1))\n",
    "third"
   ]
  },
  {
   "cell_type": "code",
   "execution_count": 177,
   "metadata": {},
   "outputs": [
    {
     "data": {
      "text/plain": [
       "array([[ 0.53365916,  1.15807228],\n",
       "       [ 1.15807228,  6.24934122]])"
      ]
     },
     "execution_count": 177,
     "metadata": {},
     "output_type": "execute_result"
    }
   ],
   "source": [
    "(first + second + third) / soft_counts[0]"
   ]
  },
  {
   "cell_type": "code",
   "execution_count": null,
   "metadata": {},
   "outputs": [],
   "source": []
  }
 ],
 "metadata": {
  "kernelspec": {
   "display_name": "Python 3",
   "language": "python",
   "name": "python3"
  },
  "language_info": {
   "codemirror_mode": {
    "name": "ipython",
    "version": 3
   },
   "file_extension": ".py",
   "mimetype": "text/x-python",
   "name": "python",
   "nbconvert_exporter": "python",
   "pygments_lexer": "ipython3",
   "version": "3.6.3"
  }
 },
 "nbformat": 4,
 "nbformat_minor": 2
}
