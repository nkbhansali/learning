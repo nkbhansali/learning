{
 "cells": [
  {
   "cell_type": "markdown",
   "metadata": {},
   "source": [
    "# Scipy"
   ]
  },
  {
   "cell_type": "code",
   "execution_count": 14,
   "metadata": {},
   "outputs": [],
   "source": [
    "%matplotlib inline"
   ]
  },
  {
   "cell_type": "code",
   "execution_count": 3,
   "metadata": {},
   "outputs": [],
   "source": [
    "from scipy.stats import norm   # Normal distribution\n",
    "import numpy as np"
   ]
  },
  {
   "cell_type": "code",
   "execution_count": 8,
   "metadata": {},
   "outputs": [
    {
     "data": {
      "text/plain": [
       "0.3989422804014327"
      ]
     },
     "execution_count": 8,
     "metadata": {},
     "output_type": "execute_result"
    }
   ],
   "source": [
    "norm.pdf(0)    # probability density function"
   ]
  },
  {
   "cell_type": "code",
   "execution_count": 9,
   "metadata": {},
   "outputs": [
    {
     "data": {
      "text/plain": [
       "0.035206532676429952"
      ]
     },
     "execution_count": 9,
     "metadata": {},
     "output_type": "execute_result"
    }
   ],
   "source": [
    "norm.pdf(0, loc=5, scale=10)  # scale is the std.dev"
   ]
  },
  {
   "cell_type": "code",
   "execution_count": 13,
   "metadata": {},
   "outputs": [],
   "source": [
    "r = np.random.randn(10)"
   ]
  },
  {
   "cell_type": "code",
   "execution_count": 14,
   "metadata": {},
   "outputs": [
    {
     "data": {
      "text/plain": [
       "array([ 0.39890997,  0.34477093,  0.26740959,  0.18697791,  0.29666601,\n",
       "        0.39866147,  0.29802016,  0.03240463,  0.30438392,  0.25388975])"
      ]
     },
     "execution_count": 14,
     "metadata": {},
     "output_type": "execute_result"
    }
   ],
   "source": [
    "norm.pdf(r)"
   ]
  },
  {
   "cell_type": "code",
   "execution_count": 15,
   "metadata": {},
   "outputs": [
    {
     "data": {
      "text/plain": [
       "array([-0.91901952, -1.06487506, -1.31897375, -1.67676481, -1.21514831,\n",
       "       -0.91964266, -1.21059415, -3.42945408, -1.18946548, -1.37085516])"
      ]
     },
     "execution_count": 15,
     "metadata": {},
     "output_type": "execute_result"
    }
   ],
   "source": [
    "norm.logpdf(r)"
   ]
  },
  {
   "cell_type": "code",
   "execution_count": 16,
   "metadata": {},
   "outputs": [
    {
     "data": {
      "text/plain": [
       "array([ 0.50507723,  0.29451136,  0.81446384,  0.10913929,  0.77925749,\n",
       "        0.51496752,  0.22250867,  0.01252063,  0.76900186,  0.82912203])"
      ]
     },
     "execution_count": 16,
     "metadata": {},
     "output_type": "execute_result"
    }
   ],
   "source": [
    "norm.cdf(r)"
   ]
  },
  {
   "cell_type": "code",
   "execution_count": 19,
   "metadata": {},
   "outputs": [
    {
     "data": {
      "text/plain": [
       "array([-0.68304393, -1.22243769, -0.20522524, -2.21513032, -0.24941375,\n",
       "       -0.66365144, -1.50278921, -4.38037787, -0.2626619 , -0.18738794])"
      ]
     },
     "execution_count": 19,
     "metadata": {},
     "output_type": "execute_result"
    }
   ],
   "source": [
    "norm.logcdf(r)"
   ]
  },
  {
   "cell_type": "markdown",
   "metadata": {},
   "source": [
    "## Sampling from 1-D Gaussian Distribution"
   ]
  },
  {
   "cell_type": "code",
   "execution_count": 22,
   "metadata": {},
   "outputs": [],
   "source": [
    "r = np.random.randn(10000)"
   ]
  },
  {
   "cell_type": "code",
   "execution_count": 7,
   "metadata": {},
   "outputs": [],
   "source": [
    "import matplotlib.pyplot as plt"
   ]
  },
  {
   "cell_type": "code",
   "execution_count": 36,
   "metadata": {},
   "outputs": [
    {
     "data": {
      "text/plain": [
       "(array([   2.,    0.,    0.,    0.,    0.,    0.,    0.,    0.,    0.,\n",
       "           0.,    1.,    1.,    0.,    2.,    3.,    2.,    5.,    3.,\n",
       "           5.,    3.,   13.,   13.,   10.,   17.,   28.,   32.,   44.,\n",
       "          42.,   55.,   49.,   72.,   78.,   84.,   95.,  119.,  109.,\n",
       "         130.,  143.,  156.,  184.,  214.,  200.,  205.,  240.,  263.,\n",
       "         273.,  260.,  268.,  309.,  315.,  332.,  325.,  337.,  311.,\n",
       "         288.,  330.,  280.,  303.,  321.,  285.,  260.,  262.,  215.,\n",
       "         225.,  198.,  194.,  182.,  165.,  121.,  137.,  135.,  118.,\n",
       "          89.,   91.,   70.,   65.,   48.,   47.,   47.,   28.,   26.,\n",
       "          23.,   17.,   25.,   12.,    9.,    2.,   10.,    5.,    2.,\n",
       "           3.,    2.,    0.,    4.,    1.,    1.,    0.,    0.,    0.,    2.]),\n",
       " array([-4.2007963 , -4.12117158, -4.04154685, -3.96192212, -3.88229739,\n",
       "        -3.80267266, -3.72304794, -3.64342321, -3.56379848, -3.48417375,\n",
       "        -3.40454902, -3.3249243 , -3.24529957, -3.16567484, -3.08605011,\n",
       "        -3.00642538, -2.92680066, -2.84717593, -2.7675512 , -2.68792647,\n",
       "        -2.60830174, -2.52867701, -2.44905229, -2.36942756, -2.28980283,\n",
       "        -2.2101781 , -2.13055337, -2.05092865, -1.97130392, -1.89167919,\n",
       "        -1.81205446, -1.73242973, -1.65280501, -1.57318028, -1.49355555,\n",
       "        -1.41393082, -1.33430609, -1.25468137, -1.17505664, -1.09543191,\n",
       "        -1.01580718, -0.93618245, -0.85655773, -0.776933  , -0.69730827,\n",
       "        -0.61768354, -0.53805881, -0.45843408, -0.37880936, -0.29918463,\n",
       "        -0.2195599 , -0.13993517, -0.06031044,  0.01931428,  0.09893901,\n",
       "         0.17856374,  0.25818847,  0.3378132 ,  0.41743792,  0.49706265,\n",
       "         0.57668738,  0.65631211,  0.73593684,  0.81556156,  0.89518629,\n",
       "         0.97481102,  1.05443575,  1.13406048,  1.2136852 ,  1.29330993,\n",
       "         1.37293466,  1.45255939,  1.53218412,  1.61180885,  1.69143357,\n",
       "         1.7710583 ,  1.85068303,  1.93030776,  2.00993249,  2.08955721,\n",
       "         2.16918194,  2.24880667,  2.3284314 ,  2.40805613,  2.48768085,\n",
       "         2.56730558,  2.64693031,  2.72655504,  2.80617977,  2.88580449,\n",
       "         2.96542922,  3.04505395,  3.12467868,  3.20430341,  3.28392813,\n",
       "         3.36355286,  3.44317759,  3.52280232,  3.60242705,  3.68205177,\n",
       "         3.7616765 ]),\n",
       " <a list of 100 Patch objects>)"
      ]
     },
     "execution_count": 36,
     "metadata": {},
     "output_type": "execute_result"
    },
    {
     "data": {
      "image/png": "[encoded data removed]",
      "text/plain": [
       "<matplotlib.figure.Figure at 0x1bbff5ebe80>"
      ]
     },
     "metadata": {},
     "output_type": "display_data"
    }
   ],
   "source": [
    "plt.hist(sample, bins=100)"
   ]
  },
  {
   "cell_type": "code",
   "execution_count": 30,
   "metadata": {},
   "outputs": [],
   "source": [
    "r = 10 * np.random.randn(10000) + 5"
   ]
  },
  {
   "cell_type": "code",
   "execution_count": 32,
   "metadata": {},
   "outputs": [
    {
     "data": {
      "text/plain": [
       "(array([   2.,    0.,    0.,    0.,    0.,    0.,    0.,    0.,    0.,\n",
       "           0.,    1.,    1.,    0.,    2.,    3.,    2.,    5.,    3.,\n",
       "           5.,    3.,   13.,   13.,   10.,   17.,   28.,   32.,   44.,\n",
       "          42.,   55.,   49.,   72.,   78.,   84.,   95.,  119.,  109.,\n",
       "         130.,  143.,  156.,  184.,  214.,  200.,  205.,  240.,  263.,\n",
       "         273.,  260.,  268.,  309.,  315.,  332.,  325.,  337.,  311.,\n",
       "         288.,  330.,  280.,  303.,  321.,  285.,  260.,  262.,  215.,\n",
       "         225.,  198.,  194.,  182.,  165.,  121.,  137.,  135.,  118.,\n",
       "          89.,   91.,   70.,   65.,   48.,   47.,   47.,   28.,   26.,\n",
       "          23.,   17.,   25.,   12.,    9.,    2.,   10.,    5.,    2.,\n",
       "           3.,    2.,    0.,    4.,    1.,    1.,    0.,    0.,    0.,    2.]),\n",
       " array([-4.2007963 , -4.12117158, -4.04154685, -3.96192212, -3.88229739,\n",
       "        -3.80267266, -3.72304794, -3.64342321, -3.56379848, -3.48417375,\n",
       "        -3.40454902, -3.3249243 , -3.24529957, -3.16567484, -3.08605011,\n",
       "        -3.00642538, -2.92680066, -2.84717593, -2.7675512 , -2.68792647,\n",
       "        -2.60830174, -2.52867701, -2.44905229, -2.36942756, -2.28980283,\n",
       "        -2.2101781 , -2.13055337, -2.05092865, -1.97130392, -1.89167919,\n",
       "        -1.81205446, -1.73242973, -1.65280501, -1.57318028, -1.49355555,\n",
       "        -1.41393082, -1.33430609, -1.25468137, -1.17505664, -1.09543191,\n",
       "        -1.01580718, -0.93618245, -0.85655773, -0.776933  , -0.69730827,\n",
       "        -0.61768354, -0.53805881, -0.45843408, -0.37880936, -0.29918463,\n",
       "        -0.2195599 , -0.13993517, -0.06031044,  0.01931428,  0.09893901,\n",
       "         0.17856374,  0.25818847,  0.3378132 ,  0.41743792,  0.49706265,\n",
       "         0.57668738,  0.65631211,  0.73593684,  0.81556156,  0.89518629,\n",
       "         0.97481102,  1.05443575,  1.13406048,  1.2136852 ,  1.29330993,\n",
       "         1.37293466,  1.45255939,  1.53218412,  1.61180885,  1.69143357,\n",
       "         1.7710583 ,  1.85068303,  1.93030776,  2.00993249,  2.08955721,\n",
       "         2.16918194,  2.24880667,  2.3284314 ,  2.40805613,  2.48768085,\n",
       "         2.56730558,  2.64693031,  2.72655504,  2.80617977,  2.88580449,\n",
       "         2.96542922,  3.04505395,  3.12467868,  3.20430341,  3.28392813,\n",
       "         3.36355286,  3.44317759,  3.52280232,  3.60242705,  3.68205177,\n",
       "         3.7616765 ]),\n",
       " <a list of 100 Patch objects>)"
      ]
     },
     "execution_count": 32,
     "metadata": {},
     "output_type": "execute_result"
    },
    {
     "data": {
      "image/png": "[encoded data removed]",
      "text/plain": [
       "<matplotlib.figure.Figure at 0x1bbfe2edcc0>"
      ]
     },
     "metadata": {},
     "output_type": "display_data"
    }
   ],
   "source": [
    "plt.hist(sample, bins=100)"
   ]
  },
  {
   "cell_type": "markdown",
   "metadata": {},
   "source": [
    "## Sampling from a Gaussian distribution (Spherical and Axis-aligned elliptical)"
   ]
  },
  {
   "cell_type": "code",
   "execution_count": 37,
   "metadata": {},
   "outputs": [],
   "source": [
    "r = np.random.randn(10000, 2)"
   ]
  },
  {
   "cell_type": "code",
   "execution_count": 38,
   "metadata": {},
   "outputs": [
    {
     "data": {
      "text/plain": [
       "<matplotlib.collections.PathCollection at 0x1bbff8a6cc0>"
      ]
     },
     "execution_count": 38,
     "metadata": {},
     "output_type": "execute_result"
    },
    {
     "data": {
      "image/png": "[encoded data removed]",
      "text/plain": [
       "<matplotlib.figure.Figure at 0x1bbff76a940>"
      ]
     },
     "metadata": {},
     "output_type": "display_data"
    }
   ],
   "source": [
    "plt.scatter(r[:, 0], r[:, 1])"
   ]
  },
  {
   "cell_type": "code",
   "execution_count": 39,
   "metadata": {},
   "outputs": [],
   "source": [
    "r[:, 1] = 5 * r[:, 1] + 2"
   ]
  },
  {
   "cell_type": "code",
   "execution_count": 41,
   "metadata": {},
   "outputs": [
    {
     "data": {
      "text/plain": [
       "(-3.9528612696063172,\n",
       " 4.210164992533489,\n",
       " -17.82123781943725,\n",
       " 22.321936156984975)"
      ]
     },
     "execution_count": 41,
     "metadata": {},
     "output_type": "execute_result"
    },
    {
     "data": {
      "image/png": "[encoded data removed]",
      "text/plain": [
       "<matplotlib.figure.Figure at 0x1bbff912400>"
      ]
     },
     "metadata": {},
     "output_type": "display_data"
    }
   ],
   "source": [
    "plt.scatter(r[:, 0], r[:, 1])\n",
    "plt.axis('equal')"
   ]
  },
  {
   "cell_type": "markdown",
   "metadata": {},
   "source": [
    "## Sampling from General Multivariate normal"
   ]
  },
  {
   "cell_type": "code",
   "execution_count": 44,
   "metadata": {},
   "outputs": [],
   "source": [
    "cov = np.array([[1, 0.8], [0.8, 3]])"
   ]
  },
  {
   "cell_type": "code",
   "execution_count": 45,
   "metadata": {},
   "outputs": [],
   "source": [
    "from scipy.stats import multivariate_normal as mvn"
   ]
  },
  {
   "cell_type": "code",
   "execution_count": 46,
   "metadata": {},
   "outputs": [],
   "source": [
    "mu = np.array([0,2])"
   ]
  },
  {
   "cell_type": "code",
   "execution_count": 50,
   "metadata": {},
   "outputs": [],
   "source": [
    "r = mvn.rvs(mean=mu, cov=cov, size=10000)"
   ]
  },
  {
   "cell_type": "code",
   "execution_count": 51,
   "metadata": {},
   "outputs": [
    {
     "data": {
      "text/plain": [
       "(-4.5325127817960853,\n",
       " 3.9868158858337428,\n",
       " -4.9832326111164145,\n",
       " 8.8931143069323504)"
      ]
     },
     "execution_count": 51,
     "metadata": {},
     "output_type": "execute_result"
    },
    {
     "data": {
      "image/png": "[encoded data removed]",
      "text/plain": [
       "<matplotlib.figure.Figure at 0x1bbff9f8dd8>"
      ]
     },
     "metadata": {},
     "output_type": "display_data"
    }
   ],
   "source": [
    "plt.scatter(r[:, 0], r[:, 1])\n",
    "plt.axis('equal')"
   ]
  },
  {
   "cell_type": "code",
   "execution_count": 54,
   "metadata": {},
   "outputs": [
    {
     "data": {
      "text/plain": [
       "array([[-0.04972927,  3.83682578],\n",
       "       [-0.44965799,  2.45205715],\n",
       "       [ 0.56515842,  1.02905818],\n",
       "       ..., \n",
       "       [ 1.07305475,  1.58599376],\n",
       "       [ 1.35486201,  3.17306515],\n",
       "       [-0.18296507, -1.39799453]])"
      ]
     },
     "execution_count": 54,
     "metadata": {},
     "output_type": "execute_result"
    }
   ],
   "source": [
    "# You could do this from numpy as well\n",
    "\n",
    "np.random.multivariate_normal(mean=mu, cov=cov, size=10000)"
   ]
  },
  {
   "cell_type": "code",
   "execution_count": 53,
   "metadata": {},
   "outputs": [
    {
     "data": {
      "text/plain": [
       "(-4.5325127817960853,\n",
       " 3.9868158858337428,\n",
       " -4.9832326111164145,\n",
       " 8.8931143069323504)"
      ]
     },
     "execution_count": 53,
     "metadata": {},
     "output_type": "execute_result"
    },
    {
     "data": {
      "image/png": "[encoded data removed]",
      "text/plain": [
       "<matplotlib.figure.Figure at 0x1bbffaec1d0>"
      ]
     },
     "metadata": {},
     "output_type": "display_data"
    }
   ],
   "source": [
    "plt.scatter(r[:, 0], r[:, 1])\n",
    "plt.axis('equal')"
   ]
  },
  {
   "cell_type": "markdown",
   "metadata": {},
   "source": [
    "## Other interesting scipy functions\n",
    "\n",
    "Check out scipy.io.loadmat -> Loading of matlab files\n",
    "\n",
    "scipy.io.wavfile.read    -> Reading audio files\n",
    "scipy.io.wavfile.write\n",
    "\n",
    "    WAV files -- \n",
    "    Contain signal amplitude at every point in time where the sound is sampled \n",
    "    Typical sampling rate: 44.1kHz \n",
    "    i.e. 44100 samples (integers) for every second of sound \n",
    "    Read: scipy.io.wavfile.read \n",
    "    Write: scipy.io.wavfile.write\n",
    "\n",
    "Check out scipy.signal for images convolution, fft etc.\n",
    "\n"
   ]
  },
  {
   "cell_type": "markdown",
   "metadata": {},
   "source": [
    "### FFT"
   ]
  },
  {
   "cell_type": "code",
   "execution_count": 8,
   "metadata": {},
   "outputs": [],
   "source": [
    "x = np.linspace(0, 100, 10000)"
   ]
  },
  {
   "cell_type": "code",
   "execution_count": 9,
   "metadata": {},
   "outputs": [],
   "source": [
    "y = np.sin(x) + np.sin(3*x) + np.sin(5*x)"
   ]
  },
  {
   "cell_type": "code",
   "execution_count": 10,
   "metadata": {},
   "outputs": [
    {
     "data": {
      "text/plain": [
       "[<matplotlib.lines.Line2D at 0x178400b0940>]"
      ]
     },
     "execution_count": 10,
     "metadata": {},
     "output_type": "execute_result"
    }
   ],
   "source": [
    "plt.plot(y)"
   ]
  },
  {
   "cell_type": "code",
   "execution_count": 11,
   "metadata": {},
   "outputs": [],
   "source": [
    "Y = np.fft.fft(y)"
   ]
  },
  {
   "cell_type": "code",
   "execution_count": 15,
   "metadata": {},
   "outputs": [
    {
     "data": {
      "text/plain": [
       "[<matplotlib.lines.Line2D at 0x17840190748>]"
      ]
     },
     "execution_count": 15,
     "metadata": {},
     "output_type": "execute_result"
    },
    {
     "data": {
      "image/png": "[encoded data removed]",
      "text/plain": [
       "<matplotlib.figure.Figure at 0x1783e5a42b0>"
      ]
     },
     "metadata": {},
     "output_type": "display_data"
    }
   ],
   "source": [
    "plt.plot(np.abs(Y))\n",
    "\n",
    "# If you zoom-in, you will see 3 spikes in the left hand side.\n",
    "# Peak's x-values are 16, 48, 80\n"
   ]
  },
  {
   "cell_type": "code",
   "execution_count": 18,
   "metadata": {},
   "outputs": [
    {
     "data": {
      "text/plain": [
       "1.0053096491487339"
      ]
     },
     "execution_count": 18,
     "metadata": {},
     "output_type": "execute_result"
    }
   ],
   "source": [
    "2 * np.pi * 16/100"
   ]
  },
  {
   "cell_type": "code",
   "execution_count": 19,
   "metadata": {},
   "outputs": [
    {
     "data": {
      "text/plain": [
       "3.015928947446201"
      ]
     },
     "execution_count": 19,
     "metadata": {},
     "output_type": "execute_result"
    }
   ],
   "source": [
    "2 * np.pi * 48/100"
   ]
  },
  {
   "cell_type": "code",
   "execution_count": 20,
   "metadata": {},
   "outputs": [
    {
     "data": {
      "text/plain": [
       "5.026548245743669"
      ]
     },
     "execution_count": 20,
     "metadata": {},
     "output_type": "execute_result"
    }
   ],
   "source": [
    "2 * np.pi * 80/100"
   ]
  },
  {
   "cell_type": "markdown",
   "metadata": {},
   "source": [
    "So 1, 3 and 5 are the original frequencies we had used for creating the sine waves."
   ]
  }
 ],
 "metadata": {
  "kernelspec": {
   "display_name": "Python 3",
   "language": "python",
   "name": "python3"
  },
  "language_info": {
   "codemirror_mode": {
    "name": "ipython",
    "version": 3
   },
   "file_extension": ".py",
   "mimetype": "text/x-python",
   "name": "python",
   "nbconvert_exporter": "python",
   "pygments_lexer": "ipython3",
   "version": "3.6.3"
  }
 },
 "nbformat": 4,
 "nbformat_minor": 2
}
